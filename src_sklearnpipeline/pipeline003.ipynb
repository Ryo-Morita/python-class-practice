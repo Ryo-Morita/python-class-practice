{
 "cells": [
  {
   "cell_type": "code",
   "execution_count": 1,
   "metadata": {},
   "outputs": [
    {
     "name": "stderr",
     "output_type": "stream",
     "text": [
      "/Users/ryo.morita/opt/anaconda3/envs/py38/lib/python3.8/site-packages/pandas/core/computation/expressions.py:20: UserWarning: Pandas requires version '2.7.3' or newer of 'numexpr' (version '2.7.1' currently installed).\n",
      "  from pandas.core.computation.check import NUMEXPR_INSTALLED\n"
     ]
    }
   ],
   "source": [
    "import numpy as np\n",
    "import pandas as pd\n",
    "from sklearn.base import BaseEstimator, TransformerMixin\n",
    "from sklearn.compose import ColumnTransformer\n",
    "from sklearn.preprocessing import StandardScaler\n",
    "from sklearn.datasets import fetch_california_housing\n",
    "from sklearn.pipeline import Pipeline,FeatureUnion\n",
    "from sklearn.linear_model import LinearRegression\n",
    "from sklearn.ensemble import RandomForestRegressor\n",
    "from sklearn.metrics import mean_squared_error,r2_score\n",
    "\n",
    "# # fitとtransformを持つクラスを作る(中身は適当)\n",
    "# class MySelector(BaseEstimator, TransformerMixin):\n",
    "#     def __init__(self, use_cols):\n",
    "#         self.use_cols = use_cols\n",
    "\n",
    "#     def fit(self, X: pd.DataFrame, y=None)->None:\n",
    "#         return self\n",
    "    \n",
    "#     def transform(self, X: pd.DataFrame,y=None)->pd.DataFrame:\n",
    "#         return X[self.use_cols]\n",
    "\n",
    "# fitとtransformを持つクラスを作る(中身は適当)\n",
    "class MyLogScaler(BaseEstimator, TransformerMixin):\n",
    "    def __init__(self):\n",
    "        pass\n",
    "\n",
    "    def fit(self, X: pd.DataFrame, y=None):\n",
    "        return self\n",
    "    \n",
    "    def transform(self, X: pd.DataFrame, y=None):\n",
    "        return np.log1p(X)\n",
    "    \n",
    "def get_data():\n",
    "    X, y = fetch_california_housing(return_X_y=True, as_frame=True)\n",
    "\n",
    "    num_train = 10000\n",
    "    train_X = X.iloc[:num_train, :].reset_index(drop=True)\n",
    "    test_X = X.iloc[num_train:, :].reset_index(drop=True)\n",
    "    train_y = y[:num_train].values\n",
    "    test_y = y[num_train:].values\n",
    "    return train_X, test_X, train_y, test_y\n",
    "\n",
    "def print_score(test_y,pred_y):\n",
    "    rmse = np.sqrt(mean_squared_error(test_y,pred_y))\n",
    "    r2 = r2_score(test_y, pred_y)\n",
    "    print(f\"RMSE : {np.round(rmse,3)}\")\n",
    "    print(f\"R2 : {np.round(r2,3)}\")\n",
    "\n",
    "    \n",
    "def main():\n",
    "    # データ取得\n",
    "    train_X, test_X, train_y, test_y = get_data()\n",
    "    \n",
    "    # 変換対象の列を指定し、それぞれの列に異なる変換を適用する\n",
    "    preprocessor = ColumnTransformer(\n",
    "        transformers=[\n",
    "            ('logscaler', MyLogScaler(), [\"MedInc\", \"Population\"]), # 対数変換\n",
    "            ('standardscaler', StandardScaler(), [\"HouseAge\", \"AveRooms\", \"AveBedrms\", \"AveOccup\"]), # 標準化\n",
    "            (\"raw\",\"passthrough\",  [\"Latitude\", \"Longitude\"]) # 何もしない\n",
    "        ])\n",
    "    \n",
    "    # 特徴量変換器とモデルの結合パイプライン(線形モデル)\n",
    "    linearmodel_pipeline = Pipeline([\n",
    "        (\"feat_pipiline\", preprocessor),\n",
    "        (\"LinearRegression\",LinearRegression())\n",
    "    ])\n",
    "\n",
    "    # 特徴量変換器とモデルの結合パイプライン(randomoforest)\n",
    "    rfmodel_pipeline = Pipeline([\n",
    "        (\"feat_pipiline\", preprocessor),\n",
    "        (\"LinearRegression\",RandomForestRegressor(random_state=1234))\n",
    "    ])\n",
    "\n",
    "    # 線形モデル実行\n",
    "    print(\"======LinearModel======\")\n",
    "    linearmodel_pipeline.fit(train_X, train_y)\n",
    "    pred_y = linearmodel_pipeline.predict(test_X)\n",
    "    print_score(test_y, pred_y)\n",
    "\n",
    "    # ランダムフォレスト実行\n",
    "    print(\"======RandomForest======\")\n",
    "    rfmodel_pipeline.fit(train_X, train_y)\n",
    "    pred_y = rfmodel_pipeline.predict(test_X)\n",
    "    print_score(test_y, pred_y)\n",
    "\n",
    "    return (linearmodel_pipeline, rfmodel_pipeline)"
   ]
  },
  {
   "cell_type": "code",
   "execution_count": 2,
   "metadata": {},
   "outputs": [
    {
     "name": "stdout",
     "output_type": "stream",
     "text": [
      "======LinearModel======\n",
      "RMSE : 0.765\n",
      "R2 : 0.551\n",
      "======RandomForest======\n",
      "RMSE : 0.701\n",
      "R2 : 0.624\n"
     ]
    }
   ],
   "source": [
    "linearmodel_pipeline, rfmodel_pipeline  = main()"
   ]
  },
  {
   "cell_type": "code",
   "execution_count": 3,
   "metadata": {},
   "outputs": [],
   "source": [
    "from sklearn import set_config\n",
    "set_config(display=\"diagram\")"
   ]
  },
  {
   "cell_type": "code",
   "execution_count": 4,
   "metadata": {},
   "outputs": [
    {
     "data": {
      "text/html": [
       "<style>#sk-30e72a33-0804-436c-916b-c0d1d9e82ce2 {color: black;background-color: white;}#sk-30e72a33-0804-436c-916b-c0d1d9e82ce2 pre{padding: 0;}#sk-30e72a33-0804-436c-916b-c0d1d9e82ce2 div.sk-toggleable {background-color: white;}#sk-30e72a33-0804-436c-916b-c0d1d9e82ce2 label.sk-toggleable__label {cursor: pointer;display: block;width: 100%;margin-bottom: 0;padding: 0.2em 0.3em;box-sizing: border-box;text-align: center;}#sk-30e72a33-0804-436c-916b-c0d1d9e82ce2 div.sk-toggleable__content {max-height: 0;max-width: 0;overflow: hidden;text-align: left;background-color: #f0f8ff;}#sk-30e72a33-0804-436c-916b-c0d1d9e82ce2 div.sk-toggleable__content pre {margin: 0.2em;color: black;border-radius: 0.25em;background-color: #f0f8ff;}#sk-30e72a33-0804-436c-916b-c0d1d9e82ce2 input.sk-toggleable__control:checked~div.sk-toggleable__content {max-height: 200px;max-width: 100%;overflow: auto;}#sk-30e72a33-0804-436c-916b-c0d1d9e82ce2 div.sk-estimator input.sk-toggleable__control:checked~label.sk-toggleable__label {background-color: #d4ebff;}#sk-30e72a33-0804-436c-916b-c0d1d9e82ce2 div.sk-label input.sk-toggleable__control:checked~label.sk-toggleable__label {background-color: #d4ebff;}#sk-30e72a33-0804-436c-916b-c0d1d9e82ce2 input.sk-hidden--visually {border: 0;clip: rect(1px 1px 1px 1px);clip: rect(1px, 1px, 1px, 1px);height: 1px;margin: -1px;overflow: hidden;padding: 0;position: absolute;width: 1px;}#sk-30e72a33-0804-436c-916b-c0d1d9e82ce2 div.sk-estimator {font-family: monospace;background-color: #f0f8ff;margin: 0.25em 0.25em;border: 1px dotted black;border-radius: 0.25em;box-sizing: border-box;}#sk-30e72a33-0804-436c-916b-c0d1d9e82ce2 div.sk-estimator:hover {background-color: #d4ebff;}#sk-30e72a33-0804-436c-916b-c0d1d9e82ce2 div.sk-parallel-item::after {content: \"\";width: 100%;border-bottom: 1px solid gray;flex-grow: 1;}#sk-30e72a33-0804-436c-916b-c0d1d9e82ce2 div.sk-label:hover label.sk-toggleable__label {background-color: #d4ebff;}#sk-30e72a33-0804-436c-916b-c0d1d9e82ce2 div.sk-serial::before {content: \"\";position: absolute;border-left: 1px solid gray;box-sizing: border-box;top: 2em;bottom: 0;left: 50%;}#sk-30e72a33-0804-436c-916b-c0d1d9e82ce2 div.sk-serial {display: flex;flex-direction: column;align-items: center;background-color: white;}#sk-30e72a33-0804-436c-916b-c0d1d9e82ce2 div.sk-item {z-index: 1;}#sk-30e72a33-0804-436c-916b-c0d1d9e82ce2 div.sk-parallel {display: flex;align-items: stretch;justify-content: center;background-color: white;}#sk-30e72a33-0804-436c-916b-c0d1d9e82ce2 div.sk-parallel-item {display: flex;flex-direction: column;position: relative;background-color: white;}#sk-30e72a33-0804-436c-916b-c0d1d9e82ce2 div.sk-parallel-item:first-child::after {align-self: flex-end;width: 50%;}#sk-30e72a33-0804-436c-916b-c0d1d9e82ce2 div.sk-parallel-item:last-child::after {align-self: flex-start;width: 50%;}#sk-30e72a33-0804-436c-916b-c0d1d9e82ce2 div.sk-parallel-item:only-child::after {width: 0;}#sk-30e72a33-0804-436c-916b-c0d1d9e82ce2 div.sk-dashed-wrapped {border: 1px dashed gray;margin: 0.2em;box-sizing: border-box;padding-bottom: 0.1em;background-color: white;position: relative;}#sk-30e72a33-0804-436c-916b-c0d1d9e82ce2 div.sk-label label {font-family: monospace;font-weight: bold;background-color: white;display: inline-block;line-height: 1.2em;}#sk-30e72a33-0804-436c-916b-c0d1d9e82ce2 div.sk-label-container {position: relative;z-index: 2;text-align: center;}#sk-30e72a33-0804-436c-916b-c0d1d9e82ce2 div.sk-container {display: inline-block;position: relative;}</style><div id=\"sk-30e72a33-0804-436c-916b-c0d1d9e82ce2\" class\"sk-top-container\"><div class=\"sk-container\"><div class=\"sk-item sk-dashed-wrapped\"><div class=\"sk-label-container\"><div class=\"sk-label sk-toggleable\"><input class=\"sk-toggleable__control sk-hidden--visually\" id=\"d3a0b971-29f6-4d68-b146-71e3f46cb441\" type=\"checkbox\" ><label class=\"sk-toggleable__label\" for=\"d3a0b971-29f6-4d68-b146-71e3f46cb441\">Pipeline</label><div class=\"sk-toggleable__content\"><pre>Pipeline(steps=[('feat_pipiline',\n",
       "                 ColumnTransformer(transformers=[('logscaler', MyLogScaler(),\n",
       "                                                  ['MedInc', 'Population']),\n",
       "                                                 ('standardscaler',\n",
       "                                                  StandardScaler(),\n",
       "                                                  ['HouseAge', 'AveRooms',\n",
       "                                                   'AveBedrms', 'AveOccup']),\n",
       "                                                 ('raw', 'passthrough',\n",
       "                                                  ['Latitude', 'Longitude'])])),\n",
       "                ('LinearRegression', RandomForestRegressor(random_state=1234))])</pre></div></div></div><div class=\"sk-serial\"><div class=\"sk-item sk-dashed-wrapped\"><div class=\"sk-label-container\"><div class=\"sk-label sk-toggleable\"><input class=\"sk-toggleable__control sk-hidden--visually\" id=\"f4568ee3-3094-4307-8cc2-572a7999164c\" type=\"checkbox\" ><label class=\"sk-toggleable__label\" for=\"f4568ee3-3094-4307-8cc2-572a7999164c\">feat_pipiline: ColumnTransformer</label><div class=\"sk-toggleable__content\"><pre>ColumnTransformer(transformers=[('logscaler', MyLogScaler(),\n",
       "                                 ['MedInc', 'Population']),\n",
       "                                ('standardscaler', StandardScaler(),\n",
       "                                 ['HouseAge', 'AveRooms', 'AveBedrms',\n",
       "                                  'AveOccup']),\n",
       "                                ('raw', 'passthrough',\n",
       "                                 ['Latitude', 'Longitude'])])</pre></div></div></div><div class=\"sk-parallel\"><div class=\"sk-parallel-item\"><div class=\"sk-item\"><div class=\"sk-label-container\"><div class=\"sk-label sk-toggleable\"><input class=\"sk-toggleable__control sk-hidden--visually\" id=\"32764521-de7d-4df2-a523-b652b99affee\" type=\"checkbox\" ><label class=\"sk-toggleable__label\" for=\"32764521-de7d-4df2-a523-b652b99affee\">logscaler</label><div class=\"sk-toggleable__content\"><pre>['MedInc', 'Population']</pre></div></div></div><div class=\"sk-serial\"><div class=\"sk-item\"><div class=\"sk-estimator sk-toggleable\"><input class=\"sk-toggleable__control sk-hidden--visually\" id=\"c96f0167-9f9a-4e7c-8820-4e482af28500\" type=\"checkbox\" ><label class=\"sk-toggleable__label\" for=\"c96f0167-9f9a-4e7c-8820-4e482af28500\">MyLogScaler</label><div class=\"sk-toggleable__content\"><pre>MyLogScaler()</pre></div></div></div></div></div></div><div class=\"sk-parallel-item\"><div class=\"sk-item\"><div class=\"sk-label-container\"><div class=\"sk-label sk-toggleable\"><input class=\"sk-toggleable__control sk-hidden--visually\" id=\"a4de2299-5ee1-43f3-a668-6816ac16ea1c\" type=\"checkbox\" ><label class=\"sk-toggleable__label\" for=\"a4de2299-5ee1-43f3-a668-6816ac16ea1c\">standardscaler</label><div class=\"sk-toggleable__content\"><pre>['HouseAge', 'AveRooms', 'AveBedrms', 'AveOccup']</pre></div></div></div><div class=\"sk-serial\"><div class=\"sk-item\"><div class=\"sk-estimator sk-toggleable\"><input class=\"sk-toggleable__control sk-hidden--visually\" id=\"e4c2633f-a864-4e5d-8374-f565fa6e6b77\" type=\"checkbox\" ><label class=\"sk-toggleable__label\" for=\"e4c2633f-a864-4e5d-8374-f565fa6e6b77\">StandardScaler</label><div class=\"sk-toggleable__content\"><pre>StandardScaler()</pre></div></div></div></div></div></div><div class=\"sk-parallel-item\"><div class=\"sk-item\"><div class=\"sk-label-container\"><div class=\"sk-label sk-toggleable\"><input class=\"sk-toggleable__control sk-hidden--visually\" id=\"acb199f8-46af-487d-812b-28be62f3cb56\" type=\"checkbox\" ><label class=\"sk-toggleable__label\" for=\"acb199f8-46af-487d-812b-28be62f3cb56\">raw</label><div class=\"sk-toggleable__content\"><pre>['Latitude', 'Longitude']</pre></div></div></div><div class=\"sk-serial\"><div class=\"sk-item\"><div class=\"sk-estimator sk-toggleable\"><input class=\"sk-toggleable__control sk-hidden--visually\" id=\"4067a770-9b3e-4f04-80d2-bf749b0c8c41\" type=\"checkbox\" ><label class=\"sk-toggleable__label\" for=\"4067a770-9b3e-4f04-80d2-bf749b0c8c41\">passthrough</label><div class=\"sk-toggleable__content\"><pre>passthrough</pre></div></div></div></div></div></div></div></div><div class=\"sk-item\"><div class=\"sk-estimator sk-toggleable\"><input class=\"sk-toggleable__control sk-hidden--visually\" id=\"acc4cfc9-3d6d-4217-8884-4efa6516f168\" type=\"checkbox\" ><label class=\"sk-toggleable__label\" for=\"acc4cfc9-3d6d-4217-8884-4efa6516f168\">RandomForestRegressor</label><div class=\"sk-toggleable__content\"><pre>RandomForestRegressor(random_state=1234)</pre></div></div></div></div></div></div></div>"
      ],
      "text/plain": [
       "Pipeline(steps=[('feat_pipiline',\n",
       "                 ColumnTransformer(transformers=[('logscaler', MyLogScaler(),\n",
       "                                                  ['MedInc', 'Population']),\n",
       "                                                 ('standardscaler',\n",
       "                                                  StandardScaler(),\n",
       "                                                  ['HouseAge', 'AveRooms',\n",
       "                                                   'AveBedrms', 'AveOccup']),\n",
       "                                                 ('raw', 'passthrough',\n",
       "                                                  ['Latitude', 'Longitude'])])),\n",
       "                ('LinearRegression', RandomForestRegressor(random_state=1234))])"
      ]
     },
     "execution_count": 4,
     "metadata": {},
     "output_type": "execute_result"
    }
   ],
   "source": [
    "rfmodel_pipeline"
   ]
  },
  {
   "cell_type": "code",
   "execution_count": 5,
   "metadata": {},
   "outputs": [
    {
     "data": {
      "text/html": [
       "<style>#sk-fb1b4c93-56b5-40f8-aa21-0a042e9c2b65 {color: black;background-color: white;}#sk-fb1b4c93-56b5-40f8-aa21-0a042e9c2b65 pre{padding: 0;}#sk-fb1b4c93-56b5-40f8-aa21-0a042e9c2b65 div.sk-toggleable {background-color: white;}#sk-fb1b4c93-56b5-40f8-aa21-0a042e9c2b65 label.sk-toggleable__label {cursor: pointer;display: block;width: 100%;margin-bottom: 0;padding: 0.2em 0.3em;box-sizing: border-box;text-align: center;}#sk-fb1b4c93-56b5-40f8-aa21-0a042e9c2b65 div.sk-toggleable__content {max-height: 0;max-width: 0;overflow: hidden;text-align: left;background-color: #f0f8ff;}#sk-fb1b4c93-56b5-40f8-aa21-0a042e9c2b65 div.sk-toggleable__content pre {margin: 0.2em;color: black;border-radius: 0.25em;background-color: #f0f8ff;}#sk-fb1b4c93-56b5-40f8-aa21-0a042e9c2b65 input.sk-toggleable__control:checked~div.sk-toggleable__content {max-height: 200px;max-width: 100%;overflow: auto;}#sk-fb1b4c93-56b5-40f8-aa21-0a042e9c2b65 div.sk-estimator input.sk-toggleable__control:checked~label.sk-toggleable__label {background-color: #d4ebff;}#sk-fb1b4c93-56b5-40f8-aa21-0a042e9c2b65 div.sk-label input.sk-toggleable__control:checked~label.sk-toggleable__label {background-color: #d4ebff;}#sk-fb1b4c93-56b5-40f8-aa21-0a042e9c2b65 input.sk-hidden--visually {border: 0;clip: rect(1px 1px 1px 1px);clip: rect(1px, 1px, 1px, 1px);height: 1px;margin: -1px;overflow: hidden;padding: 0;position: absolute;width: 1px;}#sk-fb1b4c93-56b5-40f8-aa21-0a042e9c2b65 div.sk-estimator {font-family: monospace;background-color: #f0f8ff;margin: 0.25em 0.25em;border: 1px dotted black;border-radius: 0.25em;box-sizing: border-box;}#sk-fb1b4c93-56b5-40f8-aa21-0a042e9c2b65 div.sk-estimator:hover {background-color: #d4ebff;}#sk-fb1b4c93-56b5-40f8-aa21-0a042e9c2b65 div.sk-parallel-item::after {content: \"\";width: 100%;border-bottom: 1px solid gray;flex-grow: 1;}#sk-fb1b4c93-56b5-40f8-aa21-0a042e9c2b65 div.sk-label:hover label.sk-toggleable__label {background-color: #d4ebff;}#sk-fb1b4c93-56b5-40f8-aa21-0a042e9c2b65 div.sk-serial::before {content: \"\";position: absolute;border-left: 1px solid gray;box-sizing: border-box;top: 2em;bottom: 0;left: 50%;}#sk-fb1b4c93-56b5-40f8-aa21-0a042e9c2b65 div.sk-serial {display: flex;flex-direction: column;align-items: center;background-color: white;}#sk-fb1b4c93-56b5-40f8-aa21-0a042e9c2b65 div.sk-item {z-index: 1;}#sk-fb1b4c93-56b5-40f8-aa21-0a042e9c2b65 div.sk-parallel {display: flex;align-items: stretch;justify-content: center;background-color: white;}#sk-fb1b4c93-56b5-40f8-aa21-0a042e9c2b65 div.sk-parallel-item {display: flex;flex-direction: column;position: relative;background-color: white;}#sk-fb1b4c93-56b5-40f8-aa21-0a042e9c2b65 div.sk-parallel-item:first-child::after {align-self: flex-end;width: 50%;}#sk-fb1b4c93-56b5-40f8-aa21-0a042e9c2b65 div.sk-parallel-item:last-child::after {align-self: flex-start;width: 50%;}#sk-fb1b4c93-56b5-40f8-aa21-0a042e9c2b65 div.sk-parallel-item:only-child::after {width: 0;}#sk-fb1b4c93-56b5-40f8-aa21-0a042e9c2b65 div.sk-dashed-wrapped {border: 1px dashed gray;margin: 0.2em;box-sizing: border-box;padding-bottom: 0.1em;background-color: white;position: relative;}#sk-fb1b4c93-56b5-40f8-aa21-0a042e9c2b65 div.sk-label label {font-family: monospace;font-weight: bold;background-color: white;display: inline-block;line-height: 1.2em;}#sk-fb1b4c93-56b5-40f8-aa21-0a042e9c2b65 div.sk-label-container {position: relative;z-index: 2;text-align: center;}#sk-fb1b4c93-56b5-40f8-aa21-0a042e9c2b65 div.sk-container {display: inline-block;position: relative;}</style><div id=\"sk-fb1b4c93-56b5-40f8-aa21-0a042e9c2b65\" class\"sk-top-container\"><div class=\"sk-container\"><div class=\"sk-item sk-dashed-wrapped\"><div class=\"sk-label-container\"><div class=\"sk-label sk-toggleable\"><input class=\"sk-toggleable__control sk-hidden--visually\" id=\"2082ddd9-3f3a-4f57-9d36-7452914e2f2e\" type=\"checkbox\" ><label class=\"sk-toggleable__label\" for=\"2082ddd9-3f3a-4f57-9d36-7452914e2f2e\">Pipeline</label><div class=\"sk-toggleable__content\"><pre>Pipeline(steps=[('feat_pipiline',\n",
       "                 ColumnTransformer(transformers=[('logscaler', MyLogScaler(),\n",
       "                                                  ['MedInc', 'Population']),\n",
       "                                                 ('standardscaler',\n",
       "                                                  StandardScaler(),\n",
       "                                                  ['HouseAge', 'AveRooms',\n",
       "                                                   'AveBedrms', 'AveOccup']),\n",
       "                                                 ('raw', 'passthrough',\n",
       "                                                  ['Latitude', 'Longitude'])])),\n",
       "                ('LinearRegression', LinearRegression())])</pre></div></div></div><div class=\"sk-serial\"><div class=\"sk-item sk-dashed-wrapped\"><div class=\"sk-label-container\"><div class=\"sk-label sk-toggleable\"><input class=\"sk-toggleable__control sk-hidden--visually\" id=\"dd623bb9-497a-4c8f-a53c-f2a2351c132a\" type=\"checkbox\" ><label class=\"sk-toggleable__label\" for=\"dd623bb9-497a-4c8f-a53c-f2a2351c132a\">feat_pipiline: ColumnTransformer</label><div class=\"sk-toggleable__content\"><pre>ColumnTransformer(transformers=[('logscaler', MyLogScaler(),\n",
       "                                 ['MedInc', 'Population']),\n",
       "                                ('standardscaler', StandardScaler(),\n",
       "                                 ['HouseAge', 'AveRooms', 'AveBedrms',\n",
       "                                  'AveOccup']),\n",
       "                                ('raw', 'passthrough',\n",
       "                                 ['Latitude', 'Longitude'])])</pre></div></div></div><div class=\"sk-parallel\"><div class=\"sk-parallel-item\"><div class=\"sk-item\"><div class=\"sk-label-container\"><div class=\"sk-label sk-toggleable\"><input class=\"sk-toggleable__control sk-hidden--visually\" id=\"0f247906-e58c-45da-9d7a-63271357c63e\" type=\"checkbox\" ><label class=\"sk-toggleable__label\" for=\"0f247906-e58c-45da-9d7a-63271357c63e\">logscaler</label><div class=\"sk-toggleable__content\"><pre>['MedInc', 'Population']</pre></div></div></div><div class=\"sk-serial\"><div class=\"sk-item\"><div class=\"sk-estimator sk-toggleable\"><input class=\"sk-toggleable__control sk-hidden--visually\" id=\"fb0dd1e4-cb3a-48ca-9e2f-0c371a0c979e\" type=\"checkbox\" ><label class=\"sk-toggleable__label\" for=\"fb0dd1e4-cb3a-48ca-9e2f-0c371a0c979e\">MyLogScaler</label><div class=\"sk-toggleable__content\"><pre>MyLogScaler()</pre></div></div></div></div></div></div><div class=\"sk-parallel-item\"><div class=\"sk-item\"><div class=\"sk-label-container\"><div class=\"sk-label sk-toggleable\"><input class=\"sk-toggleable__control sk-hidden--visually\" id=\"aca0418f-7157-4234-b93a-f324f1b3f49d\" type=\"checkbox\" ><label class=\"sk-toggleable__label\" for=\"aca0418f-7157-4234-b93a-f324f1b3f49d\">standardscaler</label><div class=\"sk-toggleable__content\"><pre>['HouseAge', 'AveRooms', 'AveBedrms', 'AveOccup']</pre></div></div></div><div class=\"sk-serial\"><div class=\"sk-item\"><div class=\"sk-estimator sk-toggleable\"><input class=\"sk-toggleable__control sk-hidden--visually\" id=\"e0c7711d-e215-4470-8ead-559b7649ce49\" type=\"checkbox\" ><label class=\"sk-toggleable__label\" for=\"e0c7711d-e215-4470-8ead-559b7649ce49\">StandardScaler</label><div class=\"sk-toggleable__content\"><pre>StandardScaler()</pre></div></div></div></div></div></div><div class=\"sk-parallel-item\"><div class=\"sk-item\"><div class=\"sk-label-container\"><div class=\"sk-label sk-toggleable\"><input class=\"sk-toggleable__control sk-hidden--visually\" id=\"db2b439e-f6f3-4931-87a4-8c6ba704faa4\" type=\"checkbox\" ><label class=\"sk-toggleable__label\" for=\"db2b439e-f6f3-4931-87a4-8c6ba704faa4\">raw</label><div class=\"sk-toggleable__content\"><pre>['Latitude', 'Longitude']</pre></div></div></div><div class=\"sk-serial\"><div class=\"sk-item\"><div class=\"sk-estimator sk-toggleable\"><input class=\"sk-toggleable__control sk-hidden--visually\" id=\"cc7acb60-52c1-4a3b-bc5b-51f49d39ba37\" type=\"checkbox\" ><label class=\"sk-toggleable__label\" for=\"cc7acb60-52c1-4a3b-bc5b-51f49d39ba37\">passthrough</label><div class=\"sk-toggleable__content\"><pre>passthrough</pre></div></div></div></div></div></div></div></div><div class=\"sk-item\"><div class=\"sk-estimator sk-toggleable\"><input class=\"sk-toggleable__control sk-hidden--visually\" id=\"f68c2763-fcfb-491e-b0a9-b3f0ab8ce12c\" type=\"checkbox\" ><label class=\"sk-toggleable__label\" for=\"f68c2763-fcfb-491e-b0a9-b3f0ab8ce12c\">LinearRegression</label><div class=\"sk-toggleable__content\"><pre>LinearRegression()</pre></div></div></div></div></div></div></div>"
      ],
      "text/plain": [
       "Pipeline(steps=[('feat_pipiline',\n",
       "                 ColumnTransformer(transformers=[('logscaler', MyLogScaler(),\n",
       "                                                  ['MedInc', 'Population']),\n",
       "                                                 ('standardscaler',\n",
       "                                                  StandardScaler(),\n",
       "                                                  ['HouseAge', 'AveRooms',\n",
       "                                                   'AveBedrms', 'AveOccup']),\n",
       "                                                 ('raw', 'passthrough',\n",
       "                                                  ['Latitude', 'Longitude'])])),\n",
       "                ('LinearRegression', LinearRegression())])"
      ]
     },
     "execution_count": 5,
     "metadata": {},
     "output_type": "execute_result"
    }
   ],
   "source": [
    "linearmodel_pipeline"
   ]
  },
  {
   "cell_type": "code",
   "execution_count": null,
   "metadata": {},
   "outputs": [],
   "source": []
  }
 ],
 "metadata": {
  "kernelspec": {
   "display_name": "py38",
   "language": "python",
   "name": "python3"
  },
  "language_info": {
   "codemirror_mode": {
    "name": "ipython",
    "version": 3
   },
   "file_extension": ".py",
   "mimetype": "text/x-python",
   "name": "python",
   "nbconvert_exporter": "python",
   "pygments_lexer": "ipython3",
   "version": "3.8.5"
  },
  "orig_nbformat": 4
 },
 "nbformat": 4,
 "nbformat_minor": 2
}
